{
 "cells": [
  {
   "cell_type": "markdown",
   "id": "52c0378c-b6b6-4ee5-a645-3c20f73eabbc",
   "metadata": {
    "jp-MarkdownHeadingCollapsed": true,
    "tags": []
   },
   "source": [
    "#### Ingest Data"
   ]
  },
  {
   "cell_type": "code",
   "execution_count": 167,
   "id": "5b9ec140-f10d-49e2-b718-39a338098c88",
   "metadata": {
    "tags": []
   },
   "outputs": [],
   "source": [
    "import numpy as np\n",
    "import pandas as pd\n",
    "from scipy import stats\n",
    "import matplotlib.pyplot as plt\n",
    "import seaborn as sns\n",
    "import pingouin as pg"
   ]
  },
  {
   "cell_type": "code",
   "execution_count": 168,
   "id": "0071fb81-c8da-4a0d-844d-daf20e8b8eb6",
   "metadata": {
    "tags": []
   },
   "outputs": [],
   "source": [
    "data = pd.read_csv('movieReplicationSet.csv') # ingest the data in one line\n",
    "data = data.apply(pd.to_numeric, errors='coerce') # makes sure all strings are converted to floats\n",
    "data.replace('', np.nan, inplace=True) # convert empty values to NaN"
   ]
  },
  {
   "cell_type": "code",
   "execution_count": 169,
   "id": "85fc3c83-1c33-4737-b71f-b437fc712ccf",
   "metadata": {
    "tags": []
   },
   "outputs": [],
   "source": [
    "# # check if there's empty values\n",
    "# empty_cells = data.eq('')\n",
    "# empty_count = empty_cells.sum().sum()  # Sum twice: once for columns and once for rows\n",
    "# non_empty_count = data.size - empty_count  # total cells minus empty cells\n",
    "\n",
    "# print(f\"Number of empty cells: {empty_count}\")\n",
    "# print(f\"Number of non-empty cells: {non_empty_count}\")"
   ]
  },
  {
   "cell_type": "code",
   "execution_count": 170,
   "id": "6b983f15-fc65-4069-9bf0-bee8abe558ad",
   "metadata": {
    "tags": []
   },
   "outputs": [
    {
     "data": {
      "text/html": [
       "<div>\n",
       "<style scoped>\n",
       "    .dataframe tbody tr th:only-of-type {\n",
       "        vertical-align: middle;\n",
       "    }\n",
       "\n",
       "    .dataframe tbody tr th {\n",
       "        vertical-align: top;\n",
       "    }\n",
       "\n",
       "    .dataframe thead th {\n",
       "        text-align: right;\n",
       "    }\n",
       "</style>\n",
       "<table border=\"1\" class=\"dataframe\">\n",
       "  <thead>\n",
       "    <tr style=\"text-align: right;\">\n",
       "      <th></th>\n",
       "      <th>The Life of David Gale (2003)</th>\n",
       "      <th>Wing Commander (1999)</th>\n",
       "      <th>Django Unchained (2012)</th>\n",
       "      <th>Alien (1979)</th>\n",
       "      <th>Indiana Jones and the Last Crusade (1989)</th>\n",
       "      <th>Snatch (2000)</th>\n",
       "      <th>Rambo: First Blood Part II (1985)</th>\n",
       "      <th>Fargo (1996)</th>\n",
       "      <th>Let the Right One In (2008)</th>\n",
       "      <th>Black Swan (2010)</th>\n",
       "      <th>...</th>\n",
       "      <th>When watching a movie I cheer or shout or talk or curse at the screen</th>\n",
       "      <th>When watching a movie I feel like the things on the screen are happening to me</th>\n",
       "      <th>As a movie unfolds I start to have problems keeping track of events that happened earlier</th>\n",
       "      <th>The emotions on the screen \"rub off\" on me - for instance if something sad is happening I get sad or if something frightening is happening I get scared</th>\n",
       "      <th>When watching a movie I get completely immersed in the alternative reality of the film</th>\n",
       "      <th>Movies change my position on social economic or political issues</th>\n",
       "      <th>When watching movies things get so intense that I have to stop watching</th>\n",
       "      <th>Gender identity (1 = female; 2 = male; 3 = self-described)</th>\n",
       "      <th>Are you an only child? (1: Yes; 0: No; -1: Did not respond)</th>\n",
       "      <th>Movies are best enjoyed alone (1: Yes; 0: No; -1: Did not respond)</th>\n",
       "    </tr>\n",
       "  </thead>\n",
       "  <tbody>\n",
       "    <tr>\n",
       "      <th>0</th>\n",
       "      <td>NaN</td>\n",
       "      <td>NaN</td>\n",
       "      <td>4.0</td>\n",
       "      <td>NaN</td>\n",
       "      <td>3.0</td>\n",
       "      <td>NaN</td>\n",
       "      <td>NaN</td>\n",
       "      <td>NaN</td>\n",
       "      <td>NaN</td>\n",
       "      <td>NaN</td>\n",
       "      <td>...</td>\n",
       "      <td>1.0</td>\n",
       "      <td>6.0</td>\n",
       "      <td>2.0</td>\n",
       "      <td>5.0</td>\n",
       "      <td>5.0</td>\n",
       "      <td>5.0</td>\n",
       "      <td>1.0</td>\n",
       "      <td>1.0</td>\n",
       "      <td>0</td>\n",
       "      <td>1</td>\n",
       "    </tr>\n",
       "    <tr>\n",
       "      <th>1</th>\n",
       "      <td>NaN</td>\n",
       "      <td>NaN</td>\n",
       "      <td>1.5</td>\n",
       "      <td>NaN</td>\n",
       "      <td>NaN</td>\n",
       "      <td>NaN</td>\n",
       "      <td>NaN</td>\n",
       "      <td>NaN</td>\n",
       "      <td>NaN</td>\n",
       "      <td>NaN</td>\n",
       "      <td>...</td>\n",
       "      <td>3.0</td>\n",
       "      <td>1.0</td>\n",
       "      <td>1.0</td>\n",
       "      <td>6.0</td>\n",
       "      <td>5.0</td>\n",
       "      <td>3.0</td>\n",
       "      <td>2.0</td>\n",
       "      <td>1.0</td>\n",
       "      <td>0</td>\n",
       "      <td>0</td>\n",
       "    </tr>\n",
       "    <tr>\n",
       "      <th>2</th>\n",
       "      <td>NaN</td>\n",
       "      <td>NaN</td>\n",
       "      <td>NaN</td>\n",
       "      <td>NaN</td>\n",
       "      <td>NaN</td>\n",
       "      <td>NaN</td>\n",
       "      <td>NaN</td>\n",
       "      <td>NaN</td>\n",
       "      <td>NaN</td>\n",
       "      <td>NaN</td>\n",
       "      <td>...</td>\n",
       "      <td>5.0</td>\n",
       "      <td>4.0</td>\n",
       "      <td>3.0</td>\n",
       "      <td>5.0</td>\n",
       "      <td>5.0</td>\n",
       "      <td>4.0</td>\n",
       "      <td>4.0</td>\n",
       "      <td>1.0</td>\n",
       "      <td>1</td>\n",
       "      <td>0</td>\n",
       "    </tr>\n",
       "    <tr>\n",
       "      <th>3</th>\n",
       "      <td>NaN</td>\n",
       "      <td>NaN</td>\n",
       "      <td>2.0</td>\n",
       "      <td>NaN</td>\n",
       "      <td>3.0</td>\n",
       "      <td>NaN</td>\n",
       "      <td>NaN</td>\n",
       "      <td>NaN</td>\n",
       "      <td>NaN</td>\n",
       "      <td>4.0</td>\n",
       "      <td>...</td>\n",
       "      <td>3.0</td>\n",
       "      <td>1.0</td>\n",
       "      <td>1.0</td>\n",
       "      <td>4.0</td>\n",
       "      <td>5.0</td>\n",
       "      <td>3.0</td>\n",
       "      <td>1.0</td>\n",
       "      <td>1.0</td>\n",
       "      <td>0</td>\n",
       "      <td>1</td>\n",
       "    </tr>\n",
       "    <tr>\n",
       "      <th>4</th>\n",
       "      <td>NaN</td>\n",
       "      <td>NaN</td>\n",
       "      <td>3.5</td>\n",
       "      <td>NaN</td>\n",
       "      <td>0.5</td>\n",
       "      <td>NaN</td>\n",
       "      <td>0.5</td>\n",
       "      <td>1.0</td>\n",
       "      <td>NaN</td>\n",
       "      <td>0.0</td>\n",
       "      <td>...</td>\n",
       "      <td>2.0</td>\n",
       "      <td>3.0</td>\n",
       "      <td>2.0</td>\n",
       "      <td>5.0</td>\n",
       "      <td>6.0</td>\n",
       "      <td>4.0</td>\n",
       "      <td>4.0</td>\n",
       "      <td>1.0</td>\n",
       "      <td>1</td>\n",
       "      <td>1</td>\n",
       "    </tr>\n",
       "    <tr>\n",
       "      <th>...</th>\n",
       "      <td>...</td>\n",
       "      <td>...</td>\n",
       "      <td>...</td>\n",
       "      <td>...</td>\n",
       "      <td>...</td>\n",
       "      <td>...</td>\n",
       "      <td>...</td>\n",
       "      <td>...</td>\n",
       "      <td>...</td>\n",
       "      <td>...</td>\n",
       "      <td>...</td>\n",
       "      <td>...</td>\n",
       "      <td>...</td>\n",
       "      <td>...</td>\n",
       "      <td>...</td>\n",
       "      <td>...</td>\n",
       "      <td>...</td>\n",
       "      <td>...</td>\n",
       "      <td>...</td>\n",
       "      <td>...</td>\n",
       "      <td>...</td>\n",
       "    </tr>\n",
       "    <tr>\n",
       "      <th>1092</th>\n",
       "      <td>NaN</td>\n",
       "      <td>NaN</td>\n",
       "      <td>NaN</td>\n",
       "      <td>NaN</td>\n",
       "      <td>3.5</td>\n",
       "      <td>NaN</td>\n",
       "      <td>NaN</td>\n",
       "      <td>NaN</td>\n",
       "      <td>NaN</td>\n",
       "      <td>NaN</td>\n",
       "      <td>...</td>\n",
       "      <td>3.0</td>\n",
       "      <td>4.0</td>\n",
       "      <td>3.0</td>\n",
       "      <td>5.0</td>\n",
       "      <td>5.0</td>\n",
       "      <td>4.0</td>\n",
       "      <td>4.0</td>\n",
       "      <td>1.0</td>\n",
       "      <td>0</td>\n",
       "      <td>0</td>\n",
       "    </tr>\n",
       "    <tr>\n",
       "      <th>1093</th>\n",
       "      <td>3.0</td>\n",
       "      <td>4.0</td>\n",
       "      <td>NaN</td>\n",
       "      <td>NaN</td>\n",
       "      <td>4.0</td>\n",
       "      <td>4.0</td>\n",
       "      <td>2.5</td>\n",
       "      <td>NaN</td>\n",
       "      <td>3.5</td>\n",
       "      <td>3.5</td>\n",
       "      <td>...</td>\n",
       "      <td>5.0</td>\n",
       "      <td>3.0</td>\n",
       "      <td>5.0</td>\n",
       "      <td>5.0</td>\n",
       "      <td>5.0</td>\n",
       "      <td>6.0</td>\n",
       "      <td>5.0</td>\n",
       "      <td>1.0</td>\n",
       "      <td>0</td>\n",
       "      <td>0</td>\n",
       "    </tr>\n",
       "    <tr>\n",
       "      <th>1094</th>\n",
       "      <td>NaN</td>\n",
       "      <td>NaN</td>\n",
       "      <td>NaN</td>\n",
       "      <td>NaN</td>\n",
       "      <td>NaN</td>\n",
       "      <td>NaN</td>\n",
       "      <td>NaN</td>\n",
       "      <td>3.5</td>\n",
       "      <td>NaN</td>\n",
       "      <td>NaN</td>\n",
       "      <td>...</td>\n",
       "      <td>6.0</td>\n",
       "      <td>3.0</td>\n",
       "      <td>1.0</td>\n",
       "      <td>6.0</td>\n",
       "      <td>6.0</td>\n",
       "      <td>4.0</td>\n",
       "      <td>2.0</td>\n",
       "      <td>1.0</td>\n",
       "      <td>0</td>\n",
       "      <td>0</td>\n",
       "    </tr>\n",
       "    <tr>\n",
       "      <th>1095</th>\n",
       "      <td>NaN</td>\n",
       "      <td>NaN</td>\n",
       "      <td>NaN</td>\n",
       "      <td>NaN</td>\n",
       "      <td>NaN</td>\n",
       "      <td>NaN</td>\n",
       "      <td>NaN</td>\n",
       "      <td>NaN</td>\n",
       "      <td>NaN</td>\n",
       "      <td>NaN</td>\n",
       "      <td>...</td>\n",
       "      <td>1.0</td>\n",
       "      <td>1.0</td>\n",
       "      <td>1.0</td>\n",
       "      <td>4.0</td>\n",
       "      <td>3.0</td>\n",
       "      <td>3.0</td>\n",
       "      <td>1.0</td>\n",
       "      <td>1.0</td>\n",
       "      <td>0</td>\n",
       "      <td>1</td>\n",
       "    </tr>\n",
       "    <tr>\n",
       "      <th>1096</th>\n",
       "      <td>NaN</td>\n",
       "      <td>NaN</td>\n",
       "      <td>4.0</td>\n",
       "      <td>NaN</td>\n",
       "      <td>2.5</td>\n",
       "      <td>NaN</td>\n",
       "      <td>NaN</td>\n",
       "      <td>3.0</td>\n",
       "      <td>NaN</td>\n",
       "      <td>3.5</td>\n",
       "      <td>...</td>\n",
       "      <td>3.0</td>\n",
       "      <td>4.0</td>\n",
       "      <td>1.0</td>\n",
       "      <td>4.0</td>\n",
       "      <td>4.0</td>\n",
       "      <td>4.0</td>\n",
       "      <td>1.0</td>\n",
       "      <td>1.0</td>\n",
       "      <td>0</td>\n",
       "      <td>1</td>\n",
       "    </tr>\n",
       "  </tbody>\n",
       "</table>\n",
       "<p>1097 rows × 477 columns</p>\n",
       "</div>"
      ],
      "text/plain": [
       "      The Life of David Gale (2003)  Wing Commander (1999)  \\\n",
       "0                               NaN                    NaN   \n",
       "1                               NaN                    NaN   \n",
       "2                               NaN                    NaN   \n",
       "3                               NaN                    NaN   \n",
       "4                               NaN                    NaN   \n",
       "...                             ...                    ...   \n",
       "1092                            NaN                    NaN   \n",
       "1093                            3.0                    4.0   \n",
       "1094                            NaN                    NaN   \n",
       "1095                            NaN                    NaN   \n",
       "1096                            NaN                    NaN   \n",
       "\n",
       "      Django Unchained (2012)  Alien (1979)  \\\n",
       "0                         4.0           NaN   \n",
       "1                         1.5           NaN   \n",
       "2                         NaN           NaN   \n",
       "3                         2.0           NaN   \n",
       "4                         3.5           NaN   \n",
       "...                       ...           ...   \n",
       "1092                      NaN           NaN   \n",
       "1093                      NaN           NaN   \n",
       "1094                      NaN           NaN   \n",
       "1095                      NaN           NaN   \n",
       "1096                      4.0           NaN   \n",
       "\n",
       "      Indiana Jones and the Last Crusade (1989)  Snatch (2000)  \\\n",
       "0                                           3.0            NaN   \n",
       "1                                           NaN            NaN   \n",
       "2                                           NaN            NaN   \n",
       "3                                           3.0            NaN   \n",
       "4                                           0.5            NaN   \n",
       "...                                         ...            ...   \n",
       "1092                                        3.5            NaN   \n",
       "1093                                        4.0            4.0   \n",
       "1094                                        NaN            NaN   \n",
       "1095                                        NaN            NaN   \n",
       "1096                                        2.5            NaN   \n",
       "\n",
       "      Rambo: First Blood Part II (1985)  Fargo (1996)  \\\n",
       "0                                   NaN           NaN   \n",
       "1                                   NaN           NaN   \n",
       "2                                   NaN           NaN   \n",
       "3                                   NaN           NaN   \n",
       "4                                   0.5           1.0   \n",
       "...                                 ...           ...   \n",
       "1092                                NaN           NaN   \n",
       "1093                                2.5           NaN   \n",
       "1094                                NaN           3.5   \n",
       "1095                                NaN           NaN   \n",
       "1096                                NaN           3.0   \n",
       "\n",
       "      Let the Right One In (2008)  Black Swan (2010)  ...  \\\n",
       "0                             NaN                NaN  ...   \n",
       "1                             NaN                NaN  ...   \n",
       "2                             NaN                NaN  ...   \n",
       "3                             NaN                4.0  ...   \n",
       "4                             NaN                0.0  ...   \n",
       "...                           ...                ...  ...   \n",
       "1092                          NaN                NaN  ...   \n",
       "1093                          3.5                3.5  ...   \n",
       "1094                          NaN                NaN  ...   \n",
       "1095                          NaN                NaN  ...   \n",
       "1096                          NaN                3.5  ...   \n",
       "\n",
       "      When watching a movie I cheer or shout or talk or curse at the screen  \\\n",
       "0                                                   1.0                       \n",
       "1                                                   3.0                       \n",
       "2                                                   5.0                       \n",
       "3                                                   3.0                       \n",
       "4                                                   2.0                       \n",
       "...                                                 ...                       \n",
       "1092                                                3.0                       \n",
       "1093                                                5.0                       \n",
       "1094                                                6.0                       \n",
       "1095                                                1.0                       \n",
       "1096                                                3.0                       \n",
       "\n",
       "      When watching a movie I feel like the things on the screen are happening to me  \\\n",
       "0                                                   6.0                                \n",
       "1                                                   1.0                                \n",
       "2                                                   4.0                                \n",
       "3                                                   1.0                                \n",
       "4                                                   3.0                                \n",
       "...                                                 ...                                \n",
       "1092                                                4.0                                \n",
       "1093                                                3.0                                \n",
       "1094                                                3.0                                \n",
       "1095                                                1.0                                \n",
       "1096                                                4.0                                \n",
       "\n",
       "      As a movie unfolds I start to have problems keeping track of events that happened earlier  \\\n",
       "0                                                   2.0                                           \n",
       "1                                                   1.0                                           \n",
       "2                                                   3.0                                           \n",
       "3                                                   1.0                                           \n",
       "4                                                   2.0                                           \n",
       "...                                                 ...                                           \n",
       "1092                                                3.0                                           \n",
       "1093                                                5.0                                           \n",
       "1094                                                1.0                                           \n",
       "1095                                                1.0                                           \n",
       "1096                                                1.0                                           \n",
       "\n",
       "      The emotions on the screen \"rub off\" on me - for instance if something sad is happening I get sad or if something frightening is happening I get scared  \\\n",
       "0                                                   5.0                                                                                                         \n",
       "1                                                   6.0                                                                                                         \n",
       "2                                                   5.0                                                                                                         \n",
       "3                                                   4.0                                                                                                         \n",
       "4                                                   5.0                                                                                                         \n",
       "...                                                 ...                                                                                                         \n",
       "1092                                                5.0                                                                                                         \n",
       "1093                                                5.0                                                                                                         \n",
       "1094                                                6.0                                                                                                         \n",
       "1095                                                4.0                                                                                                         \n",
       "1096                                                4.0                                                                                                         \n",
       "\n",
       "      When watching a movie I get completely immersed in the alternative reality of the film  \\\n",
       "0                                                   5.0                                        \n",
       "1                                                   5.0                                        \n",
       "2                                                   5.0                                        \n",
       "3                                                   5.0                                        \n",
       "4                                                   6.0                                        \n",
       "...                                                 ...                                        \n",
       "1092                                                5.0                                        \n",
       "1093                                                5.0                                        \n",
       "1094                                                6.0                                        \n",
       "1095                                                3.0                                        \n",
       "1096                                                4.0                                        \n",
       "\n",
       "      Movies change my position on social economic or political issues  \\\n",
       "0                                                   5.0                  \n",
       "1                                                   3.0                  \n",
       "2                                                   4.0                  \n",
       "3                                                   3.0                  \n",
       "4                                                   4.0                  \n",
       "...                                                 ...                  \n",
       "1092                                                4.0                  \n",
       "1093                                                6.0                  \n",
       "1094                                                4.0                  \n",
       "1095                                                3.0                  \n",
       "1096                                                4.0                  \n",
       "\n",
       "      When watching movies things get so intense that I have to stop watching  \\\n",
       "0                                                   1.0                         \n",
       "1                                                   2.0                         \n",
       "2                                                   4.0                         \n",
       "3                                                   1.0                         \n",
       "4                                                   4.0                         \n",
       "...                                                 ...                         \n",
       "1092                                                4.0                         \n",
       "1093                                                5.0                         \n",
       "1094                                                2.0                         \n",
       "1095                                                1.0                         \n",
       "1096                                                1.0                         \n",
       "\n",
       "      Gender identity (1 = female; 2 = male; 3 = self-described)  \\\n",
       "0                                                   1.0            \n",
       "1                                                   1.0            \n",
       "2                                                   1.0            \n",
       "3                                                   1.0            \n",
       "4                                                   1.0            \n",
       "...                                                 ...            \n",
       "1092                                                1.0            \n",
       "1093                                                1.0            \n",
       "1094                                                1.0            \n",
       "1095                                                1.0            \n",
       "1096                                                1.0            \n",
       "\n",
       "      Are you an only child? (1: Yes; 0: No; -1: Did not respond)  \\\n",
       "0                                                     0             \n",
       "1                                                     0             \n",
       "2                                                     1             \n",
       "3                                                     0             \n",
       "4                                                     1             \n",
       "...                                                 ...             \n",
       "1092                                                  0             \n",
       "1093                                                  0             \n",
       "1094                                                  0             \n",
       "1095                                                  0             \n",
       "1096                                                  0             \n",
       "\n",
       "      Movies are best enjoyed alone (1: Yes; 0: No; -1: Did not respond)  \n",
       "0                                                     1                   \n",
       "1                                                     0                   \n",
       "2                                                     0                   \n",
       "3                                                     1                   \n",
       "4                                                     1                   \n",
       "...                                                 ...                   \n",
       "1092                                                  0                   \n",
       "1093                                                  0                   \n",
       "1094                                                  0                   \n",
       "1095                                                  1                   \n",
       "1096                                                  1                   \n",
       "\n",
       "[1097 rows x 477 columns]"
      ]
     },
     "execution_count": 170,
     "metadata": {},
     "output_type": "execute_result"
    }
   ],
   "source": [
    "data"
   ]
  },
  {
   "cell_type": "markdown",
   "id": "aaace24c-df36-445e-9526-bac3d891b0bb",
   "metadata": {
    "tags": []
   },
   "source": [
    "#### Q1\n",
    "Are movies that are more popular (operationalized as having more ratings) rated higher than movies that are less popular? [Hint: You can do a median-split of popularity to determine high vs. low popularity movies] "
   ]
  },
  {
   "cell_type": "code",
   "execution_count": 64,
   "id": "868bcaab-a512-4f3c-8fea-0ad77180708c",
   "metadata": {
    "tags": []
   },
   "outputs": [],
   "source": [
    "## Handling the data\n",
    "# 1. Calculate popularity (non-NaN count) for each movie\n",
    "popularity = data.iloc[:, 0:400].count()\n",
    "\n",
    "# 2. Determine the median popularity\n",
    "median_popularity = popularity.median()\n",
    "\n",
    "# 3. Split movies into high and low popularity groups\n",
    "high_popularity_indices = popularity[popularity > median_popularity].index\n",
    "low_popularity_indices = popularity[popularity <= median_popularity].index\n",
    "\n",
    "# 4. Get average ratings for each movie\n",
    "# pandas will skip NaN for aggregate values\n",
    "average_ratings = data.iloc[:, 0:400].mean()\n",
    "\n",
    "# 5. Extract average ratings for high and low popularity movies\n",
    "high_popularity_ratings = average_ratings.loc[high_popularity_indices]\n",
    "low_popularity_ratings = average_ratings.loc[low_popularity_indices]"
   ]
  },
  {
   "cell_type": "code",
   "execution_count": 36,
   "id": "9b810f16-4ca0-4627-9f9d-b3f2d1de7372",
   "metadata": {
    "tags": []
   },
   "outputs": [
    {
     "name": "stdout",
     "output_type": "stream",
     "text": [
      "               W      pval  equal_var\n",
      "levene  12.92466  0.000365      False\n"
     ]
    }
   ],
   "source": [
    "## Check if the 2 groups (high popularity, low popularity) have equal variance\n",
    "\n",
    "# Convert the Pandas Series to lists\n",
    "high_popularity_ratings_list = high_popularity_ratings.tolist()\n",
    "low_popularity_ratings_list = low_popularity_ratings.tolist()\n",
    "\n",
    "# Conduct the Levene test\n",
    "result = pg.homoscedasticity(data=[high_popularity_ratings_list, low_popularity_ratings_list], method='levene')\n",
    "print(result)"
   ]
  },
  {
   "cell_type": "code",
   "execution_count": 42,
   "id": "830517ff-4737-42f0-a228-047315bc248d",
   "metadata": {
    "tags": []
   },
   "outputs": [
    {
     "name": "stdout",
     "output_type": "stream",
     "text": [
      "Welch's T-statistic: 17.756\n",
      "P-value: 0.000\n",
      "df: 378.536\n"
     ]
    }
   ],
   "source": [
    "## 4. Conduct Welch-T-test\n",
    "\n",
    "# Welch's T-test\n",
    "t_stat, p_val = stats.ttest_ind(high_popularity_ratings, low_popularity_ratings, equal_var=False)\n",
    "\n",
    "print(f\"Welch's T-statistic: {t_stat:.3f}\")\n",
    "print(f\"P-value: {p_val:.3f}\")\n",
    "\n",
    "# Finding df\n",
    "# Calculate variances\n",
    "s1_sq = np.var(high_popularity_ratings, ddof=1)\n",
    "s2_sq = np.var(low_popularity_ratings, ddof=1)\n",
    "\n",
    "# Calculate sample sizes\n",
    "n1 = len(high_popularity_ratings)\n",
    "n2 = len(low_popularity_ratings)\n",
    "\n",
    "# Compute degrees of freedom for Welch's t-test\n",
    "numerator = ((s1_sq / n1) + (s2_sq / n2))**2\n",
    "denominator = ((s1_sq / n1)**2 / (n1 - 1)) + ((s2_sq / n2)**2 / (n2 - 1))\n",
    "\n",
    "df_welch = numerator / denominator\n",
    "\n",
    "print(f\"df: {df_welch:.3f}\")"
   ]
  },
  {
   "cell_type": "code",
   "execution_count": 35,
   "id": "8804f45c-7284-4da6-acaa-017d54586d56",
   "metadata": {
    "tags": []
   },
   "outputs": [
    {
     "data": {
      "image/png": "[encoded data removed]",
      "text/plain": [
       "<Figure size 1200x600 with 1 Axes>"
      ]
     },
     "metadata": {},
     "output_type": "display_data"
    }
   ],
   "source": [
    "# Plot histograms of ratings\n",
    "plt.figure(figsize=(12, 6))\n",
    "plt.hist(high_popularity_ratings, bins=30, alpha=0.5, label=\"High Popularity Movies\", color=\"blue\")\n",
    "plt.hist(low_popularity_ratings, bins=30, alpha=0.5, label=\"Low Popularity Movies\", color=\"red\")\n",
    "\n",
    "# Add vertical lines for means\n",
    "plt.axvline(high_popularity_ratings.mean(), color='blue', linestyle='dashed', linewidth=1)\n",
    "plt.axvline(low_popularity_ratings.mean(), color='red', linestyle='dashed', linewidth=1)\n",
    "\n",
    "# Annotate with t-test results\n",
    "plt.text(0.82, 0.9, f'Welch\\'s T-test: {t_stat:.3f}\\nP-value: {p_val:.3f}', transform=plt.gca().transAxes)\n",
    "\n",
    "# Add title and labels\n",
    "plt.title(\"Distribution of Average Ratings for High vs. Low Popularity Movies\")\n",
    "plt.xlabel(\"Average Rating\")\n",
    "plt.ylabel(\"Number of Movies\")\n",
    "plt.legend()\n",
    "plt.show()"
   ]
  },
  {
   "cell_type": "code",
   "execution_count": 13,
   "id": "f8f7eae8-0484-47ab-a365-8451ff6e8e49",
   "metadata": {
    "tags": []
   },
   "outputs": [
    {
     "data": {
      "text/plain": [
       "The Life of David Gale (2003)                 76\n",
       "Wing Commander (1999)                         71\n",
       "Django Unchained (2012)                      453\n",
       "Alien (1979)                                 289\n",
       "Indiana Jones and the Last Crusade (1989)    463\n",
       "                                            ... \n",
       "Patton (1970)                                 61\n",
       "Anaconda (1997)                              198\n",
       "Twister (1996)                               174\n",
       "MacArthur (1977)                              61\n",
       "Look Who's Talking (1989)                    108\n",
       "Length: 400, dtype: int64"
      ]
     },
     "execution_count": 13,
     "metadata": {},
     "output_type": "execute_result"
    }
   ],
   "source": [
    "# data type: pandas.core.series.Series\n",
    "popularity"
   ]
  },
  {
   "cell_type": "code",
   "execution_count": 14,
   "id": "bd4f18dc-0583-438a-8d6a-0689357e5ab6",
   "metadata": {
    "tags": []
   },
   "outputs": [
    {
     "data": {
      "text/plain": [
       "197.5"
      ]
     },
     "execution_count": 14,
     "metadata": {},
     "output_type": "execute_result"
    }
   ],
   "source": [
    "median_popularity"
   ]
  },
  {
   "cell_type": "code",
   "execution_count": 15,
   "id": "6f1a6559-a902-45a0-a06b-d9df9e24a533",
   "metadata": {
    "tags": []
   },
   "outputs": [
    {
     "data": {
      "text/plain": [
       "pandas.core.indexes.base.Index"
      ]
     },
     "execution_count": 15,
     "metadata": {},
     "output_type": "execute_result"
    }
   ],
   "source": [
    "type(high_popularity_indices)"
   ]
  },
  {
   "cell_type": "code",
   "execution_count": 16,
   "id": "a3d393d3-fd7b-4cee-a6cd-80cbd846e9b3",
   "metadata": {
    "tags": []
   },
   "outputs": [
    {
     "data": {
      "text/plain": [
       "Django Unchained (2012)                           3.153422\n",
       "Alien (1979)                                      2.707612\n",
       "Indiana Jones and the Last Crusade (1989)         2.778618\n",
       "Fargo (1996)                                      2.899606\n",
       "Black Swan (2010)                                 2.911565\n",
       "                                                    ...   \n",
       "X-Men 2 (2003)                                    2.914062\n",
       "The Mask (1994)                                   2.559045\n",
       "Jaws (1975)                                       2.618952\n",
       "Harry Potter and the Chamber of Secrets (2002)    3.272459\n",
       "Anaconda (1997)                                   2.295455\n",
       "Length: 200, dtype: float64"
      ]
     },
     "execution_count": 16,
     "metadata": {},
     "output_type": "execute_result"
    }
   ],
   "source": [
    "# data type: pandas.core.series.Series\n",
    "high_popularity_ratings"
   ]
  },
  {
   "cell_type": "code",
   "execution_count": 17,
   "id": "6b1540c9-8d75-4ff7-88f5-0435ae699d2f",
   "metadata": {
    "tags": []
   },
   "outputs": [
    {
     "name": "stdout",
     "output_type": "stream",
     "text": [
      "                              Movie_Name  Number_of_Ratings\n",
      "63                   Finding Nemo (2003)               1014\n",
      "48                          Shrek (2001)               1008\n",
      "35                        Shrek 2 (2004)                965\n",
      "110                 The Lion King (1994)                937\n",
      "136                 Monsters  Inc.(2001)                927\n",
      "..                                   ...                ...\n",
      "155                Reservoir Dogs (1992)                203\n",
      "184      My Best Friend's Wedding (1997)                202\n",
      "132  There's Something About Mary (1998)                202\n",
      "175                     Halloween (1978)                201\n",
      "199                      Anaconda (1997)                198\n",
      "\n",
      "[200 rows x 2 columns]\n"
     ]
    }
   ],
   "source": [
    "## Check what's inside the high_popularity_indice and the # of the ratings\n",
    "# Create an empty list to store the results\n",
    "high_popularity_movies = []\n",
    "\n",
    "# Loop through the high_popularity_indices\n",
    "for movie_name in high_popularity_indices:\n",
    "    # Get the number of ratings for the movie\n",
    "    num_ratings = popularity[movie_name]\n",
    "    \n",
    "    # Append the movie name and its ratings count to the list\n",
    "    high_popularity_movies.append((movie_name, num_ratings))\n",
    "\n",
    "# Convert the list to a DataFrame\n",
    "high_popularity_df = pd.DataFrame(high_popularity_movies, columns=['Movie_Name', 'Number_of_Ratings'])\n",
    "\n",
    "\n",
    "sorted_high_popularity_df = high_popularity_df.sort_values(by='Number_of_Ratings', ascending=False)\n",
    "\n",
    "print(sorted_high_popularity_df)\n"
   ]
  },
  {
   "cell_type": "code",
   "execution_count": 18,
   "id": "fc752498-adf5-4fea-b82e-9b1da3918fc3",
   "metadata": {
    "tags": []
   },
   "outputs": [
    {
     "name": "stdout",
     "output_type": "stream",
     "text": [
      "                       Movie_Name  Number_of_Ratings\n",
      "107         Knight and Day (2010)                197\n",
      "127  Ouija: Origin of Evil (2016)                197\n",
      "144              The Visit (2015)                196\n",
      "168        The Transporter (2002)                193\n",
      "195     The Usual Suspects (1995)                193\n",
      "..                            ...                ...\n",
      "71              Stir Crazy (1980)                 59\n",
      "54              Sexy Beast (2000)                 56\n",
      "171             FeardotCom (2002)                 56\n",
      "166     The Final Conflict (1981)                 55\n",
      "122        Best Laid Plans (1999)                 54\n",
      "\n",
      "[200 rows x 2 columns]\n"
     ]
    }
   ],
   "source": [
    "# Create an empty list to store the results\n",
    "low_popularity_movies = []\n",
    "\n",
    "# Loop through the low_popularity_indices\n",
    "for movie_name in low_popularity_indices:\n",
    "    # Get the number of ratings for the movie\n",
    "    num_ratings = popularity[movie_name]\n",
    "    \n",
    "    # Append the movie name and its ratings count to the list\n",
    "    low_popularity_movies.append((movie_name, num_ratings))\n",
    "\n",
    "# Convert the list to a DataFrame\n",
    "low_popularity_df = pd.DataFrame(low_popularity_movies, columns=['Movie_Name', 'Number_of_Ratings'])\n",
    "\n",
    "\n",
    "sorted_low_popularity_df = low_popularity_df.sort_values(by='Number_of_Ratings', ascending=False)\n",
    "\n",
    "print(sorted_low_popularity_df)"
   ]
  },
  {
   "cell_type": "code",
   "execution_count": 19,
   "id": "9849bf54-754c-4023-b0bb-9fe01a2b72fa",
   "metadata": {
    "tags": []
   },
   "outputs": [
    {
     "data": {
      "text/plain": [
       "<Axes: ylabel='Frequency'>"
      ]
     },
     "execution_count": 19,
     "metadata": {},
     "output_type": "execute_result"
    },
    {
     "data": {
      "image/png": "[encoded data removed]",
      "text/plain": [
       "<Figure size 640x480 with 1 Axes>"
      ]
     },
     "metadata": {},
     "output_type": "display_data"
    }
   ],
   "source": [
    "high_popularity_ratings.plot(kind='hist')"
   ]
  },
  {
   "cell_type": "code",
   "execution_count": 20,
   "id": "2779d1da-054e-48c2-8a62-4a2033098471",
   "metadata": {
    "tags": []
   },
   "outputs": [
    {
     "data": {
      "text/plain": [
       "<Axes: ylabel='Frequency'>"
      ]
     },
     "execution_count": 20,
     "metadata": {},
     "output_type": "execute_result"
    },
    {
     "data": {
      "image/png": "[encoded data removed]",
      "text/plain": [
       "<Figure size 640x480 with 1 Axes>"
      ]
     },
     "metadata": {},
     "output_type": "display_data"
    }
   ],
   "source": [
    "low_popularity_ratings.plot(kind='hist')"
   ]
  },
  {
   "cell_type": "code",
   "execution_count": 21,
   "id": "e200acc1-34b7-42fd-91d3-ab583a5b065c",
   "metadata": {
    "tags": []
   },
   "outputs": [
    {
     "data": {
      "image/png": "[encoded data removed]",
      "text/plain": [
       "<Figure size 640x480 with 1 Axes>"
      ]
     },
     "metadata": {},
     "output_type": "display_data"
    }
   ],
   "source": [
    "# Calculate means and standard errors\n",
    "mean_high = high_popularity_ratings.mean()\n",
    "mean_low = low_popularity_ratings.mean()\n",
    "\n",
    "sem_high = high_popularity_ratings.std() / np.sqrt(len(high_popularity_ratings))\n",
    "sem_low = low_popularity_ratings.std() / np.sqrt(len(low_popularity_ratings))\n",
    "\n",
    "# Plotting\n",
    "labels = ['High Popularity', 'Low Popularity']\n",
    "means = [mean_high, mean_low]\n",
    "errors = [sem_high, sem_low]\n",
    "\n",
    "plt.bar(labels, means, yerr=errors, color=['blue', 'red'], alpha=0.7, capsize=10)\n",
    "plt.ylabel('Average Rating')\n",
    "plt.title('Average Movie Ratings by Popularity\\n' + 'ttest_ind = {:.3f}'.format(t_stat) + ', p = {:.3f}'.format(p_val))\n",
    "plt.grid(axis='y')\n",
    "\n",
    "# Display the plot\n",
    "plt.tight_layout()\n",
    "plt.show()\n"
   ]
  },
  {
   "cell_type": "markdown",
   "id": "dec63558-6e6c-46da-864c-6f4d686c4b65",
   "metadata": {
    "tags": []
   },
   "source": [
    "#### Q2\n",
    "Are movies that are newer rated differently than movies that are older? [Hint: Do a median split of year of release to contrast movies in terms of whether they are old or new]"
   ]
  },
  {
   "cell_type": "code",
   "execution_count": 205,
   "id": "ee7882b0-3854-4835-96a1-b9888243bb6f",
   "metadata": {
    "tags": []
   },
   "outputs": [],
   "source": [
    "import re\n",
    "## Handling the data\n",
    "# 1. Calculate popularity (non-NaN count) for each movie\n",
    "movie_titles = data.columns[:400]\n",
    "year_list = [int(re.search(r\"\\((\\d{4})\\)\", title).group(1)) if re.search(r\"\\((\\d{4})\\)\", title) else None for title in data.columns[:400]]\n",
    "year = pd.Series(year_list, index=movie_titles)\n",
    "\n",
    "\n",
    "# 2. Determine the median year\n",
    "median_year = year.median()\n",
    "\n",
    "# 3. Split movies into new and old movie groups\n",
    "new_movies_indices = year[year > median_year].index\n",
    "old_movies_indices = year[year <= median_year].index\n",
    "\n",
    "# 4. Get average ratings for each movie\n",
    "average_ratings = data.iloc[:, 0:400].mean()\n",
    "\n",
    "# 5. Extract average ratings for new and old movie groups\n",
    "new_movies_ratings = average_ratings.loc[new_movies_indices]\n",
    "old_movies_ratings = average_ratings.loc[old_movies_indices]"
   ]
  },
  {
   "cell_type": "code",
   "execution_count": 209,
   "id": "1ad60d68-efc3-415a-b86c-50ee87efa870",
   "metadata": {
    "tags": []
   },
   "outputs": [
    {
     "name": "stdout",
     "output_type": "stream",
     "text": [
      "               W     pval  equal_var\n",
      "levene  0.684462  0.40855       True\n"
     ]
    }
   ],
   "source": [
    "## Check if the 2 groups (high popularity, low popularity) have equal variance\n",
    "\n",
    "# Convert the Pandas Series to lists\n",
    "new_movies_ratings_list = new_movies_ratings.tolist()\n",
    "old_movies_ratings_list = old_movies_ratings.tolist()\n",
    "\n",
    "# Conduct the Levene test\n",
    "result = pg.homoscedasticity(data=[new_movies_ratings_list, old_movies_ratings_list], method='levene')\n",
    "print(result)"
   ]
  },
  {
   "cell_type": "code",
   "execution_count": 216,
   "id": "b5aac4f0-747a-45f9-ba5f-7feb73312ce8",
   "metadata": {
    "tags": []
   },
   "outputs": [
    {
     "name": "stdout",
     "output_type": "stream",
     "text": [
      "Independent T-statistic: 1.124\n",
      "P-value: 0.262\n",
      "df = 398\n"
     ]
    }
   ],
   "source": [
    "## 4. Conduct Independent-T-test\n",
    "\n",
    "# Independent-T-test\n",
    "t_stat, p_val = stats.ttest_ind(new_movies_ratings, old_movies_ratings)\n",
    "\n",
    "# Calculate df\n",
    "df = len(new_movies_ratings) + len(old_movies_ratings) - 2\n",
    "\n",
    "print(f\"Independent T-statistic: {t_stat:.3f}\")\n",
    "print(f\"P-value: {p_val:.3f}\")\n",
    "print(\"df = \" + str(df))"
   ]
  },
  {
   "cell_type": "code",
   "execution_count": 220,
   "id": "6f74da2f-fbce-4025-a7fd-f0ff89bcbd58",
   "metadata": {
    "tags": []
   },
   "outputs": [
    {
     "data": {
      "image/png": "[encoded data removed]",
      "text/plain": [
       "<Figure size 1200x600 with 1 Axes>"
      ]
     },
     "metadata": {},
     "output_type": "display_data"
    }
   ],
   "source": [
    "# Plot histograms of ratings\n",
    "plt.figure(figsize=(12, 6))\n",
    "plt.hist(new_movies_ratings, bins=30, alpha=0.5, label=\"Newer-rated Movies\", color=\"blue\")\n",
    "plt.hist(old_movies_ratings, bins=30, alpha=0.5, label=\"Older-rated Movies\", color=\"red\")\n",
    "\n",
    "# Add vertical lines for means\n",
    "plt.axvline(new_movies_ratings.mean(), color='blue', linestyle='dashed', linewidth=1)\n",
    "plt.axvline(old_movies_ratings.mean(), color='red', linestyle='dashed', linewidth=1)\n",
    "\n",
    "# Annotate with t-test results\n",
    "plt.text(0.02, 0.9, f'Independent T-test: {t_stat:.3f}\\nP-value: {p_val:.3f}', transform=plt.gca().transAxes)\n",
    "\n",
    "# Add title and labels\n",
    "plt.title(\"Distribution of Average Ratings for Newer vs. Older-rated Movies\")\n",
    "plt.xlabel(\"Average Rating\")\n",
    "plt.ylabel(\"Number of Movies\")\n",
    "plt.legend()\n",
    "plt.show()"
   ]
  },
  {
   "cell_type": "code",
   "execution_count": 206,
   "id": "58fcb9e0-1afa-4b85-980c-7ea60c721cea",
   "metadata": {
    "tags": []
   },
   "outputs": [
    {
     "data": {
      "text/plain": [
       "The Life of David Gale (2003)                2003\n",
       "Wing Commander (1999)                        1999\n",
       "Django Unchained (2012)                      2012\n",
       "Alien (1979)                                 1979\n",
       "Indiana Jones and the Last Crusade (1989)    1989\n",
       "                                             ... \n",
       "Patton (1970)                                1970\n",
       "Anaconda (1997)                              1997\n",
       "Twister (1996)                               1996\n",
       "MacArthur (1977)                             1977\n",
       "Look Who's Talking (1989)                    1989\n",
       "Length: 400, dtype: int64"
      ]
     },
     "execution_count": 206,
     "metadata": {},
     "output_type": "execute_result"
    }
   ],
   "source": [
    "year"
   ]
  },
  {
   "cell_type": "code",
   "execution_count": 207,
   "id": "e762d134-ec08-4c0c-81fb-930c0f0388e4",
   "metadata": {
    "tags": []
   },
   "outputs": [
    {
     "data": {
      "text/plain": [
       "1999.0"
      ]
     },
     "execution_count": 207,
     "metadata": {},
     "output_type": "execute_result"
    }
   ],
   "source": [
    "median_year"
   ]
  },
  {
   "cell_type": "code",
   "execution_count": 208,
   "id": "7367f54f-0f2b-4d4f-862c-287482583e87",
   "metadata": {
    "tags": []
   },
   "outputs": [
    {
     "name": "stdout",
     "output_type": "stream",
     "text": [
      "                            Movie_Name  Year_of_Movie\n",
      "87                        Split (2016)           2016\n",
      "161  Captain America: Civil War (2016)           2016\n",
      "106       Ouija: Origin of Evil (2016)           2016\n",
      "56                 Ghostbusters (2016)           2016\n",
      "137                  La La Land (2016)           2016\n",
      "..                                 ...            ...\n",
      "139            Meet the Parents (2000)           2000\n",
      "50                        X-Men (2000)           2000\n",
      "57                Almost Famous (2000)           2000\n",
      "148                 Scary Movie (2000)           2000\n",
      "144                   Cast Away (2000)           2000\n",
      "\n",
      "[174 rows x 2 columns]\n"
     ]
    }
   ],
   "source": [
    "## Check what's inside the new_movies_indices and the year of the movie\n",
    "# Create an empty list to store the results\n",
    "new_movies = []\n",
    "\n",
    "# Loop through the new_movies_indices\n",
    "for movie_name in new_movies_indices:\n",
    "    # Get the number of ratings for the movie\n",
    "    year_of_the_movie = year[movie_name]\n",
    "    \n",
    "    # Append the movie name and its ratings count to the list\n",
    "    new_movies.append((movie_name, year_of_the_movie))\n",
    "\n",
    "# Convert the list to a DataFrame\n",
    "year_df = pd.DataFrame(new_movies, columns=['Movie_Name', 'Year_of_Movie'])\n",
    "\n",
    "\n",
    "sorted_year_df = year_df.sort_values(by='Year_of_Movie', ascending=False)\n",
    "\n",
    "print(sorted_year_df)"
   ]
  },
  {
   "cell_type": "code",
   "execution_count": 61,
   "id": "83269cb1-8abe-4b95-9abf-1c3c8d48034c",
   "metadata": {
    "tags": []
   },
   "outputs": [
    {
     "name": "stdout",
     "output_type": "stream",
     "text": [
      "                                Movie_Name  Year_of_Movie\n",
      "0                    Wing Commander (1999)           1999\n",
      "184                  The Green Mile (1999)           1999\n",
      "175                 Double Jeopardy (1999)           1999\n",
      "51                       Fight Club (1999)           1999\n",
      "165              The Straight Story (1999)           1999\n",
      "..                                     ...            ...\n",
      "156        Thoroughly Modern Millie (1967)           1967\n",
      "99   Who's Afraid of Virginia Woolf (1966)           1966\n",
      "73    The Good the Bad and the Ugly (1966)           1966\n",
      "84                    The Silencers (1966)           1966\n",
      "10                           Psycho (1960)           1960\n",
      "\n",
      "[226 rows x 2 columns]\n"
     ]
    }
   ],
   "source": [
    "## Check what's inside the old_movies_indices and the year of the movie\n",
    "# Create an empty list to store the results\n",
    "old_movies = []\n",
    "\n",
    "# Loop through the new_movies_indices\n",
    "for movie_name in old_movies_indices:\n",
    "    # Get the number of ratings for the movie\n",
    "    year_of_the_movie = year[movie_name]\n",
    "    \n",
    "    # Append the movie name and its ratings count to the list\n",
    "    old_movies.append((movie_name, year_of_the_movie))\n",
    "\n",
    "# Convert the list to a DataFrame\n",
    "year_df = pd.DataFrame(old_movies, columns=['Movie_Name', 'Year_of_Movie'])\n",
    "\n",
    "\n",
    "sorted_year_df = year_df.sort_values(by='Year_of_Movie', ascending=False)\n",
    "\n",
    "print(sorted_year_df)"
   ]
  },
  {
   "cell_type": "markdown",
   "id": "84e0c7aa-5357-42af-9171-2ccd870efec0",
   "metadata": {
    "tags": []
   },
   "source": [
    "#### Q7\n",
    "Do people who like to watch movies socially enjoy ‘The Wolf of Wall Street (2013)’ more than those who prefer to watch them alone?"
   ]
  },
  {
   "cell_type": "code",
   "execution_count": 120,
   "id": "7d654fb6-a567-4ee6-84e5-364fc11b2172",
   "metadata": {
    "tags": []
   },
   "outputs": [],
   "source": [
    "## Movies are best enjoyed alone (1: Yes; 0: No; -1: Did not respond)\n",
    "# Remove NaN and -1 values from \n",
    "filtered_data = data[data['Movies are best enjoyed alone (1: Yes; 0: No; -1: Did not respond)'].isin([0, 1])]\n",
    "\n",
    "# Split data based on watching preference\n",
    "watch_alone = filtered_data[filtered_data['Movies are best enjoyed alone (1: Yes; 0: No; -1: Did not respond)'] == 1]\n",
    "watch_together = filtered_data[filtered_data['Movies are best enjoyed alone (1: Yes; 0: No; -1: Did not respond)'] == 0]"
   ]
  },
  {
   "cell_type": "code",
   "execution_count": 121,
   "id": "7010d8ea-1e7b-4598-8a64-61452a4f85b2",
   "metadata": {
    "tags": []
   },
   "outputs": [],
   "source": [
    "## Handling the Data: Element-wise elimination for WoWS\n",
    "\n",
    "# warch alone, len=393\n",
    "WoWS_watch_alone = WoWS_watch_alone[np.isfinite(watch_alone['The Wolf of Wall Street (2013)'])]\n",
    "\n",
    "# watch together, len=270\n",
    "WoWS_watch_together = WoWS_watch_together[np.isfinite(watch_together['The Wolf of Wall Street (2013)'])] "
   ]
  },
  {
   "cell_type": "code",
   "execution_count": 180,
   "id": "f76f91dc-45f5-407e-8c4e-20c3e4fea830",
   "metadata": {
    "tags": []
   },
   "outputs": [
    {
     "name": "stdout",
     "output_type": "stream",
     "text": [
      "               W     pval  equal_var\n",
      "levene  0.805503  0.36978       True\n"
     ]
    }
   ],
   "source": [
    "## Check if the 2 groups (WoWS_watch_alone, WoWS_watch_together) have equal variance\n",
    "\n",
    "# Convert the Pandas Series to lists\n",
    "WoWS_watch_alone_list = WoWS_watch_alone.tolist()\n",
    "WoWS_watch_together_list = WoWS_watch_together.tolist()\n",
    "\n",
    "# Conduct the Levene test\n",
    "result = pg.homoscedasticity(data=[WoWS_watch_alone_list, WoWS_watch_together_list], method='levene')\n",
    "print(result)"
   ]
  },
  {
   "cell_type": "code",
   "execution_count": 132,
   "id": "76a2737e-c6b4-40e1-8097-00a3480cbce6",
   "metadata": {
    "tags": []
   },
   "outputs": [
    {
     "name": "stdout",
     "output_type": "stream",
     "text": [
      "T-statistic: 1.568\n",
      "P-value: 0.117\n",
      "df = 661\n"
     ]
    }
   ],
   "source": [
    "## Conduct the independent t-test\n",
    "\n",
    "WoWS_t_stat, WoWS_p_value = stats.ttest_ind(WoWS_watch_alone, WoWS_watch_together)\n",
    "\n",
    "print(f\"T-statistic: {WoWS_t_stat:.3f}\")\n",
    "print(f\"P-value: {WoWS_p_value:.3f}\")\n",
    "\n",
    "\n",
    "# degrees of freedom (N1 + N2 - 2):\n",
    "df = (len(WoWS_watch_alone) + len(WoWS_watch_together) - 2)\n",
    "print(\"df = \" + str(df))"
   ]
  },
  {
   "cell_type": "code",
   "execution_count": 127,
   "id": "729a1cc6-e252-4101-934a-1eb125b20bf5",
   "metadata": {
    "tags": []
   },
   "outputs": [
    {
     "data": {
      "image/png": "[encoded data removed]",
      "text/plain": [
       "<Figure size 640x480 with 1 Axes>"
      ]
     },
     "metadata": {},
     "output_type": "display_data"
    }
   ],
   "source": [
    "## Plotting\n",
    "\n",
    "# Compute means\n",
    "mean_alone = np.mean(WoWS_watch_alone)\n",
    "mean_together = np.mean(WoWS_watch_together)\n",
    "\n",
    "# Compute standard errors\n",
    "sem_alone = np.std(WoWS_watch_alone, ddof=1) / np.sqrt(len(WoWS_watch_alone))\n",
    "sem_together = np.std(WoWS_watch_together, ddof=1) / np.sqrt(len(WoWS_watch_together))\n",
    "\n",
    "# Plotting\n",
    "labels = ['Watch Alone', 'Watch Together']\n",
    "means = [mean_alone, mean_together]\n",
    "errors = [sem_alone, sem_together]\n",
    "\n",
    "fig, ax = plt.subplots()\n",
    "ax.bar(labels, means, yerr=errors, align='center', alpha=0.7, ecolor='black', capsize=10)\n",
    "ax.set_ylabel('Average Rating')\n",
    "ax.set_title('Average Movie Rating on The Wolf of Wall Street: \\n Watching Alone vs. Together \\n' + 'p = {:.3f}'.format(WoWS_p_value))\n",
    "ax.yaxis.grid(True)\n",
    "\n",
    "# Display the plot\n",
    "plt.tight_layout()\n",
    "plt.show()\n"
   ]
  },
  {
   "cell_type": "code",
   "execution_count": 153,
   "id": "1d270fcf-998e-4da0-8baa-a2a30b0b9e40",
   "metadata": {
    "tags": []
   },
   "outputs": [
    {
     "name": "stdout",
     "output_type": "stream",
     "text": [
      "<class 'pandas.core.series.Series'>\n",
      "False\n",
      "False\n"
     ]
    }
   ],
   "source": [
    "# check no NaN values\n",
    "print(type(WoWS_watch_alone))\n",
    "print(WoWS_watch_alone.isna().any())\n",
    "print(WoWS_watch_together.isna().any())"
   ]
  },
  {
   "cell_type": "code",
   "execution_count": 95,
   "id": "9d68f7fb-ee6b-403c-8974-1413bfc02788",
   "metadata": {
    "tags": []
   },
   "outputs": [
    {
     "data": {
      "text/plain": [
       "5       2.5\n",
       "6       1.0\n",
       "12      3.5\n",
       "14      4.0\n",
       "18      4.0\n",
       "       ... \n",
       "1082    4.0\n",
       "1085    4.0\n",
       "1087    4.0\n",
       "1093    3.5\n",
       "1094    2.0\n",
       "Name: The Wolf of Wall Street (2013), Length: 270, dtype: float64"
      ]
     },
     "execution_count": 95,
     "metadata": {},
     "output_type": "execute_result"
    }
   ],
   "source": [
    "WoWS_watch_together"
   ]
  },
  {
   "cell_type": "code",
   "execution_count": 128,
   "id": "c2f6728e-71b7-4352-9aeb-816d69ed1cf6",
   "metadata": {
    "tags": []
   },
   "outputs": [
    {
     "data": {
      "image/png": "[encoded data removed]",
      "text/plain": [
       "<Figure size 1000x600 with 1 Axes>"
      ]
     },
     "metadata": {},
     "output_type": "display_data"
    }
   ],
   "source": [
    "## Plotting\n",
    "\n",
    "# Compute means\n",
    "mean_alone = np.mean(WoWS_watch_alone)\n",
    "mean_together = np.mean(WoWS_watch_together)\n",
    "\n",
    "# Plotting histograms\n",
    "plt.figure(figsize=(10, 6))\n",
    "plt.hist(WoWS_watch_alone, bins=np.arange(-0.5, 5.5, 1), alpha=0.5, label='Watch Alone')\n",
    "plt.hist(WoWS_watch_together, bins=np.arange(-0.5, 5.5, 1), alpha=0.5, label='Watch Together')\n",
    "\n",
    "# Plotting means\n",
    "plt.axvline(mean_alone, color='blue', linestyle='dashed', linewidth=1)\n",
    "plt.axvline(mean_together, color='orange', linestyle='dashed', linewidth=1)\n",
    "\n",
    "# Adding legends and labels\n",
    "plt.legend(loc='upper right')\n",
    "plt.title(\"Distribution of Ratings for 'The Wolf of Wall Street (2013)'\")\n",
    "plt.xlabel('Rating')\n",
    "plt.ylabel('Frequency')\n",
    "plt.xticks(np.arange(0, 5, 1))  # Assuming ratings are whole numbers from 0 to 4\n",
    "\n",
    "plt.show()"
   ]
  },
  {
   "cell_type": "markdown",
   "id": "11178cd0-a80a-4b1e-9280-7818f3f06566",
   "metadata": {},
   "source": [
    "#### Q8\n",
    "What proportion of movies exhibit such a “social watching” effect?"
   ]
  },
  {
   "cell_type": "code",
   "execution_count": 175,
   "id": "9edcddf1-a172-4430-a52d-1d48aba7a14c",
   "metadata": {
    "tags": []
   },
   "outputs": [],
   "source": [
    "## Movies are best enjoyed alone (1: Yes; 0: No; -1: Did not respond)\n",
    "# Remove NaN and -1 values from \n",
    "filtered_data = data[data['Movies are best enjoyed alone (1: Yes; 0: No; -1: Did not respond)'].isin([0, 1])]\n",
    "\n",
    "# Split data based on watching preference\n",
    "watch_alone_data = filtered_data[filtered_data['Movies are best enjoyed alone (1: Yes; 0: No; -1: Did not respond)'] == 1]\n",
    "watch_together_data = filtered_data[filtered_data['Movies are best enjoyed alone (1: Yes; 0: No; -1: Did not respond)'] == 0]"
   ]
  },
  {
   "cell_type": "code",
   "execution_count": 203,
   "id": "3d79578a-a63a-46ed-ae15-14bc642455a7",
   "metadata": {
    "tags": []
   },
   "outputs": [
    {
     "name": "stdout",
     "output_type": "stream",
     "text": [
      "6\n",
      "{'movie': 'p-value', 'The Silence of the Lambs (1991)': '0.003', 'North (1994)': '0.003', 'Shrek 2 (2004)': '0.001', 'Ghostbusters (2016)': '0.004', 'Spider-Man (2002)': '0.003', 'Donnie Darko (2001)': '0.001'}\n"
     ]
    }
   ],
   "source": [
    "significance_cnt = 0\n",
    "t_dic = { \"movie\": \"p-value\"}\n",
    "w_dic = { \"movie\": \"p-value\"}\n",
    "res_dic = { \"movie\": \"p-value\"}\n",
    "\n",
    "\n",
    "for i in filtered_data.columns[0:400]:\n",
    "    \n",
    "    # do element-wise elimination for all movies\n",
    "    alone_ratings = watch_alone_data[i].dropna()\n",
    "    together_ratings = watch_together_data[i].dropna()\n",
    "    \n",
    "    # print(i + \"   \" +  str(len(alone_ratings)) + \"   \" + str(len(together_ratings)))\n",
    "    \n",
    "    \n",
    "    # check variance, conduct the Levene test\n",
    "    alone_ratings_list = alone_ratings.tolist()\n",
    "    together_ratings_list = together_ratings.tolist()\n",
    "    result = pg.homoscedasticity(data=[alone_ratings_list, together_ratings_list], method='levene')\n",
    "    \n",
    "    \n",
    "    # decide what t-test to run\n",
    "    \n",
    "    if (result.iloc[0,2]) == True: \n",
    "        # run independent t-test\n",
    "        all_t_stat, all_p_value = stats.ttest_ind(alone_ratings, together_ratings)\n",
    "        # t_dic[i] ='{:.3f}'.format(all_p_value)\n",
    "    else:\n",
    "        # run welch t-test\n",
    "        all_t_stat, all_p_value = stats.ttest_ind(alone_ratings, together_ratings, equal_var=False)\n",
    "        # w_dic[i] ='{:.3f}'.format(all_p_value)\n",
    "    \n",
    "    # check significance (𝛼 = 0.005)\n",
    "    if all_p_value < 0.005:\n",
    "        significance_cnt += 1\n",
    "        res_dic[i] ='{:.3f}'.format(all_p_value)\n",
    "\n",
    "print(significance_cnt)\n",
    "print(res_dic)\n",
    "# print(\"\\n\\n\\n\\nt_dic\")\n",
    "# print(t_dic)\n",
    "# print(\"\\n\\n\\n\\nW_dic\")\n",
    "# print(w_dic)\n",
    "    "
   ]
  },
  {
   "cell_type": "code",
   "execution_count": null,
   "id": "d1cfa164-22bc-405b-bf18-5359186e2af7",
   "metadata": {},
   "outputs": [],
   "source": []
  }
 ],
 "metadata": {
  "kernelspec": {
   "display_name": "Python 3 (ipykernel)",
   "language": "python",
   "name": "python3"
  },
  "language_info": {
   "codemirror_mode": {
    "name": "ipython",
    "version": 3
   },
   "file_extension": ".py",
   "mimetype": "text/x-python",
   "name": "python",
   "nbconvert_exporter": "python",
   "pygments_lexer": "ipython3",
   "version": "3.11.4"
  }
 },
 "nbformat": 4,
 "nbformat_minor": 5
}
